{
 "cells": [
  {
   "cell_type": "markdown",
   "metadata": {},
   "source": [
    "# Installer Numpy avec OpenBlas\n",
    "\n",
    "Si vous vous contentez d'installer *Numpy* avec la commande *pip* seule ou les librairies système de votre distribution Linux préférée vous risquez d'obtenir une librairie 100% opérationnelle mais ayant de très mauvaises performances."
   ]
  },
  {
   "cell_type": "markdown",
   "metadata": {},
   "source": [
    "![Librairie numpy système versus numpy + openblas](openblas_vs_system.png)"
   ]
  },
  {
   "cell_type": "markdown",
   "metadata": {},
   "source": [
    "Pour être efficace il convient de [l'installer en l'accompagnant de librairies mathématiques vectorisées](https://www.scipy.org/scipylib/building/index.html), parmi :\n",
    "\n",
    "* [Atlas](http://math-atlas.sourceforge.net/), [Blas](http://www.netlib.org/blas/), [Lapack](http://www.netlib.org/lapack/)\n",
    "* [OpenBlas](http://www.openblas.net/)\n",
    "* Intel [MKL](https://software.intel.com/en-us/intel-mkl)\n",
    "* AMD [ACML](http://developer.amd.com/tools-and-sdks/archive/compute/amd-core-math-library-acml/)\n",
    "* ..."
   ]
  },
  {
   "cell_type": "markdown",
   "metadata": {
    "collapsed": true
   },
   "source": [
    "Le couple ATLAS+Lapack est une excellente solution, malheureusement depuis que j'ai changé de PC je n'arrive plus à le compiler correctement."
   ]
  },
  {
   "cell_type": "markdown",
   "metadata": {},
   "source": [
    "Aussi je vous propose de découvrir comment installer votre librairie numpy avec la librairie *OpenBlas* fraichement compilée pour votre système."
   ]
  },
  {
   "cell_type": "markdown",
   "metadata": {},
   "source": [
    "## Installer les outils de développement\n",
    "\n",
    "```bash\n",
    "bash> sudo apt-get install build-essential\n",
    "bash> sudo apt-get install gfortran\n",
    "```"
   ]
  },
  {
   "cell_type": "markdown",
   "metadata": {},
   "source": [
    "## Télécharger OpenBlas\n",
    "\n",
    "```bash\n",
    "bash> git clone https://github.com/xianyi/OpenBLAS.git`\n",
    "cd OpenBlas\n",
    "```\n",
    "\n",
    "Ou\n",
    "\n",
    "```bash\n",
    "bash> wget http://github.com/xianyi/OpenBLAS/archive/v0.2.20.tar.gz\n",
    "bash> tar xzf v0.2.20.tar.gz\n",
    "bash> cd OpenBLAS-0.2.20\n",
    "```"
   ]
  },
  {
   "cell_type": "markdown",
   "metadata": {},
   "source": [
    "## Compiler\n",
    "`bash> make`\n",
    "\n",
    "## Installer\n",
    "`bash> make install PREFIX=<your path> # Exemple : /opt/openblas ou /usr/local`\n",
    "\n"
   ]
  },
  {
   "cell_type": "markdown",
   "metadata": {},
   "source": [
    "## Installer numpy avec OpenBlas\n",
    "Une fois la librairie installée, il convient d'installer une version de numpy en lui indiquant au préalable comment la trouver\n",
    "\n",
    "```bash\n",
    "bash> virtualenv -p /usr/bin/python3 openblas\n",
    "bash> cd openblas\n",
    "bash> source bin/activate\n",
    "```\n",
    "\n",
    "Avant d'installer numpy dans l'environnement virtuel assurez-vous qu'il puisse trouver les binaires et entêtes de la librairie:\n",
    "\n",
    "```bash\n",
    "bash> export LD_LIBRARY_PATH=/opt/openblas/lib:$LD_LIBRARY_PATH\n",
    "```\n",
    "\n",
    "Pour les entêtes sous */usr/local* normalement cela fonctionne bien. Si vous ne vous rappelez pas comme moi de la variable d'environnement à définir pour que gcc les trouve, vous pouvez aussi les copier de */opt/openblas/include* vers le dossier *include* du virtualenv de Python.\n",
    "\n",
    "Ce n'est pas bien, mais pour la démo cela fonctionnera très bien.\n",
    "\n",
    "Vous pouvez maintenant installer numpy avec *pip*\n",
    "\n",
    "```\n",
    "(python35)bash> pip install numpy\n",
    "```\n",
    "\n",
    "Puis testez la configuration:\n",
    "\n",
    "```python\n",
    "Python 3.5.2 (default, Nov 23 2017, 16:37:01) \n",
    "[GCC 5.4.0 20160609] on linux\n",
    "Type \"help\", \"copyright\", \"credits\" or \"license\" for more information.\n",
    ">>> import numpy as np\n",
    ">>> np.__config__.show()\n",
    "openblas_info:\n",
    "    define_macros = [('HAVE_CBLAS', None)]\n",
    "    libraries = ['openblas', 'openblas']\n",
    "\n",
    "```"
   ]
  },
  {
   "cell_type": "markdown",
   "metadata": {},
   "source": [
    "## Et maintenant testons avec un numpy système\n",
    "\n",
    "La librairie numpy installée avec Python 3 de ma distribution Linux Mint n'offre aucune librairie vectorisée."
   ]
  },
  {
   "cell_type": "code",
   "execution_count": 1,
   "metadata": {},
   "outputs": [
    {
     "name": "stdout",
     "output_type": "stream",
     "text": [
      "lapack_opt_info:\r\n",
      "    library_dirs = ['/usr/lib']\r\n",
      "    define_macros = [('NO_ATLAS_INFO', 1), ('HAVE_CBLAS', None)]\r\n",
      "    libraries = ['lapack', 'lapack', 'blas', 'blas']\r\n",
      "    language = c\r\n",
      "openblas_lapack_info:\r\n",
      "  NOT AVAILABLE\r\n",
      "atlas_3_10_info:\r\n",
      "  NOT AVAILABLE\r\n",
      "atlas_3_10_threads_info:\r\n",
      "  NOT AVAILABLE\r\n",
      "openblas_info:\r\n",
      "  NOT AVAILABLE\r\n",
      "atlas_3_10_blas_threads_info:\r\n",
      "  NOT AVAILABLE\r\n",
      "blas_info:\r\n",
      "    library_dirs = ['/usr/lib']\r\n",
      "    define_macros = [('HAVE_CBLAS', None)]\r\n",
      "    libraries = ['blas', 'blas']\r\n",
      "    language = c\r\n",
      "atlas_blas_info:\r\n",
      "  NOT AVAILABLE\r\n",
      "lapack_mkl_info:\r\n",
      "  NOT AVAILABLE\r\n",
      "atlas_3_10_blas_info:\r\n",
      "  NOT AVAILABLE\r\n",
      "lapack_info:\r\n",
      "    library_dirs = ['/usr/lib']\r\n",
      "    libraries = ['lapack', 'lapack']\r\n",
      "    language = f77\r\n",
      "blas_opt_info:\r\n",
      "    library_dirs = ['/usr/lib']\r\n",
      "    define_macros = [('NO_ATLAS_INFO', 1), ('HAVE_CBLAS', None)]\r\n",
      "    libraries = ['blas', 'blas']\r\n",
      "    language = c\r\n",
      "blas_mkl_info:\r\n",
      "  NOT AVAILABLE\r\n",
      "mkl_info:\r\n",
      "  NOT AVAILABLE\r\n",
      "atlas_info:\r\n",
      "  NOT AVAILABLE\r\n",
      "atlas_blas_threads_info:\r\n",
      "  NOT AVAILABLE\r\n",
      "atlas_threads_info:\r\n",
      "  NOT AVAILABLE\r\n"
     ]
    }
   ],
   "source": [
    "!/usr/bin/python3 -c \"import numpy as np; np.__config__.show()\""
   ]
  },
  {
   "cell_type": "code",
   "execution_count": 2,
   "metadata": {},
   "outputs": [
    {
     "name": "stdout",
     "output_type": "stream",
     "text": [
      "blas_opt_info:\r\n",
      "    libraries = ['openblas', 'openblas']\r\n",
      "    language = c\r\n",
      "    define_macros = [('HAVE_CBLAS', None)]\r\n",
      "    library_dirs = ['/usr/local/lib']\r\n",
      "openblas_info:\r\n",
      "    libraries = ['openblas', 'openblas']\r\n",
      "    language = c\r\n",
      "    define_macros = [('HAVE_CBLAS', None)]\r\n",
      "    library_dirs = ['/usr/local/lib']\r\n",
      "lapack_mkl_info:\r\n",
      "  NOT AVAILABLE\r\n",
      "lapack_opt_info:\r\n",
      "    libraries = ['openblas', 'openblas']\r\n",
      "    language = c\r\n",
      "    define_macros = [('HAVE_CBLAS', None)]\r\n",
      "    library_dirs = ['/usr/local/lib']\r\n",
      "blis_info:\r\n",
      "  NOT AVAILABLE\r\n",
      "openblas_lapack_info:\r\n",
      "    libraries = ['openblas', 'openblas']\r\n",
      "    language = c\r\n",
      "    define_macros = [('HAVE_CBLAS', None)]\r\n",
      "    library_dirs = ['/usr/local/lib']\r\n",
      "blas_mkl_info:\r\n",
      "  NOT AVAILABLE\r\n"
     ]
    }
   ],
   "source": [
    "!/opt/openblas/p35/bin/python -c \"import numpy as np; np.__config__.show()\""
   ]
  },
  {
   "cell_type": "markdown",
   "metadata": {},
   "source": [
    "Mesurons maintenant le temps d'exécution de ces 2 versions de numpy (système et openblas)"
   ]
  },
  {
   "cell_type": "code",
   "execution_count": 3,
   "metadata": {},
   "outputs": [
    {
     "name": "stdout",
     "output_type": "stream",
     "text": [
      "Overwriting benchmark.py\n"
     ]
    }
   ],
   "source": [
    "%%file benchmark.py \n",
    "# coding=utf8\n",
    "import sys\n",
    "import numpy as np\n",
    "import time\n",
    "\n",
    "n = 100\n",
    "\n",
    "times = []\n",
    "\n",
    "while n <= 2000:\n",
    "    mat = np.random.rand(n,n)\n",
    "    \n",
    "    # Compute dot product (do a lot of additions and multiplications)\n",
    "    start = time.time()\n",
    "    r = np.dot(mat, mat) # mat @ mat\n",
    "    end = time.time()\n",
    "    \n",
    "    compute_time = end - start\n",
    "    times.append((n, compute_time))\n",
    "    print(n, compute_time)\n",
    "    n += 200\n",
    "    \n",
    "# Save it to a file\n",
    "np.save(sys.argv[1], times)"
   ]
  },
  {
   "cell_type": "markdown",
   "metadata": {},
   "source": [
    "Calcul des performances avec le python système"
   ]
  },
  {
   "cell_type": "code",
   "execution_count": 4,
   "metadata": {},
   "outputs": [
    {
     "name": "stdout",
     "output_type": "stream",
     "text": [
      "100 0.0005905628204345703\n",
      "300 0.015039205551147461\n",
      "500 0.0718848705291748\n",
      "700 0.19284796714782715\n",
      "900 0.4713737964630127\n",
      "1100 1.0199275016784668\n",
      "1300 1.661370038986206\n",
      "1500 2.5973589420318604\n",
      "1700 4.0269129276275635\n",
      "1900 5.499075651168823\n"
     ]
    }
   ],
   "source": [
    "!/usr/bin/python3 benchmark.py \"system.npy\"\n"
   ]
  },
  {
   "cell_type": "markdown",
   "metadata": {},
   "source": [
    "Calcul des performances avec le python openblas"
   ]
  },
  {
   "cell_type": "code",
   "execution_count": 5,
   "metadata": {},
   "outputs": [
    {
     "name": "stdout",
     "output_type": "stream",
     "text": [
      "100 0.013395071029663086\n",
      "300 0.0008711814880371094\n",
      "500 0.00302886962890625\n",
      "700 0.010390043258666992\n",
      "900 0.01829385757446289\n",
      "1100 0.03714323043823242\n",
      "1300 0.05067086219787598\n",
      "1500 0.07104825973510742\n",
      "1700 0.09233474731445312\n",
      "1900 0.13447022438049316\n"
     ]
    }
   ],
   "source": [
    "!OPENBLAS_NUM_THREADS=4 /opt/openblas/p35/bin/python benchmark.py \"openblas.npy\""
   ]
  },
  {
   "cell_type": "markdown",
   "metadata": {},
   "source": [
    "Traçons le graphique de comparaison"
   ]
  },
  {
   "cell_type": "code",
   "execution_count": 7,
   "metadata": {},
   "outputs": [
    {
     "data": {
      "image/png": "[encoded data removed]",
      "text/plain": [
       "<matplotlib.figure.Figure at 0x7f32fdcd01d0>"
      ]
     },
     "metadata": {},
     "output_type": "display_data"
    }
   ],
   "source": [
    "%matplotlib inline\n",
    "import matplotlib.pyplot as plt\n",
    "import numpy as np\n",
    "\n",
    "s = np.load(\"system.npy\")\n",
    "o = np.load(\"openblas.npy\")\n",
    "\n",
    "fig, ax1 = plt.subplots(figsize=(8,4))\n",
    "\n",
    "\n",
    "ax1.plot(s[:, 0], s[:, 1], label=\"Using numpy alone\")\n",
    "ax1.plot(o[:, 0], o[:, 1], label=\"Using numpy + (OPENBLAS_NUM_THREADS=4)\")\n",
    "ax1.set_ylabel(\"Time in seconds\")\n",
    "ax1.legend()\n",
    "\n",
    "ax2 = ax1.twinx()\n",
    "ax2.set_ylabel('ratio system/openblas', color='r')\n",
    "ax2.plot(s[:, 0], s[:, 1]/o[:, 1], c='red'\n",
    "         , label=\"ratio system/openblas\")\n",
    "ax2.tick_params('y', colors='r')\n",
    "ax2.legend(loc='center left')\n",
    "\n",
    "\n",
    "plt.title(\"Dot product of squared matrix by itself\")\n",
    "ax1.set_xlabel(\"Nb rows/cols in matrix\")\n",
    "fig.tight_layout()\n",
    "plt.savefig('openblas_vs_system.png')\n",
    "plt.show();"
   ]
  },
  {
   "cell_type": "code",
   "execution_count": null,
   "metadata": {
    "collapsed": true
   },
   "outputs": [],
   "source": []
  }
 ],
 "metadata": {
  "kernelspec": {
   "display_name": "Python 3",
   "language": "python",
   "name": "python3"
  },
  "language_info": {
   "codemirror_mode": {
    "name": "ipython",
    "version": 3
   },
   "file_extension": ".py",
   "mimetype": "text/x-python",
   "name": "python",
   "nbconvert_exporter": "python",
   "pygments_lexer": "ipython3",
   "version": "3.6.3"
  }
 },
 "nbformat": 4,
 "nbformat_minor": 2
}
